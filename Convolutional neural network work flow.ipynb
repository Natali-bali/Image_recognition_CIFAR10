{
 "cells": [
  {
   "cell_type": "code",
   "execution_count": 11,
   "id": "fe4e56b8",
   "metadata": {},
   "outputs": [],
   "source": [
    "# import tensorflow\n",
    "from keras.models import Sequential\n",
    "from keras.layers import Dense, Dropout\n",
    "from keras.layers.convolutional import Conv2D, MaxPooling2D"
   ]
  },
  {
   "cell_type": "code",
   "execution_count": 5,
   "id": "1f3f7df2",
   "metadata": {},
   "outputs": [],
   "source": [
    "model = Sequential()"
   ]
  },
  {
   "cell_type": "code",
   "execution_count": 7,
   "id": "1ac5c393",
   "metadata": {},
   "outputs": [
    {
     "data": {
      "text/plain": [
       "<keras.engine.sequential.Sequential at 0x7feb0a93b2e0>"
      ]
     },
     "execution_count": 7,
     "metadata": {},
     "output_type": "execute_result"
    }
   ],
   "source": [
    "model"
   ]
  },
  {
   "cell_type": "code",
   "execution_count": 13,
   "id": "a45d9db3",
   "metadata": {},
   "outputs": [],
   "source": [
    "сonv_layer = Conv2D(filters = 32, kernel_size = (3,3), activation = 'relu')\n",
    "max_pool_layer = MaxPooling2D(pool_size = (2,2))\n",
    "dense_layer = Dense(10  , activation = 'softmax')\n",
    "dropout_layer = Dropout(rate = 0.5)"
   ]
  },
  {
   "cell_type": "code",
   "execution_count": 14,
   "id": "56e8895b",
   "metadata": {},
   "outputs": [],
   "source": [
    "model.add(сonv_layer)\n",
    "model.add(max_pool_layer)\n",
    "model.add(dense_layer)\n",
    "model.add(dropout_layer)\n",
    "model.add(dense_layer)"
   ]
  },
  {
   "cell_type": "code",
   "execution_count": 16,
   "id": "eedc7b43",
   "metadata": {},
   "outputs": [],
   "source": [
    "model.compile(optimizer = 'SGD', loss = 0.01, metrics = ['accuracy'])"
   ]
  },
  {
   "cell_type": "code",
   "execution_count": 18,
   "id": "fd1ce5ba",
   "metadata": {},
   "outputs": [],
   "source": [
    "# model.fit(X, y, batch_size = 32, epochs = 10)\n",
    "# model.evaluate()\n",
    "# model.predict()"
   ]
  },
  {
   "cell_type": "code",
   "execution_count": null,
   "id": "449ed43b",
   "metadata": {},
   "outputs": [],
   "source": []
  }
 ],
 "metadata": {
  "kernelspec": {
   "display_name": "Python 3",
   "language": "python",
   "name": "python3"
  },
  "language_info": {
   "codemirror_mode": {
    "name": "ipython",
    "version": 3
   },
   "file_extension": ".py",
   "mimetype": "text/x-python",
   "name": "python",
   "nbconvert_exporter": "python",
   "pygments_lexer": "ipython3",
   "version": "3.9.1"
  }
 },
 "nbformat": 4,
 "nbformat_minor": 5
}
